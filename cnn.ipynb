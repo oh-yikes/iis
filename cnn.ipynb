{
  "nbformat": 4,
  "nbformat_minor": 0,
  "metadata": {
    "accelerator": "TPU",
    "colab": {
      "name": "cnn.ipynb",
      "provenance": []
    },
    "kernelspec": {
      "display_name": "Python 3",
      "name": "python3"
    }
  },
  "cells": [
    {
      "cell_type": "code",
      "metadata": {
        "colab": {
          "base_uri": "https://localhost:8080/"
        },
        "id": "H_nxuoPQpcoB",
        "outputId": "33791fb6-faf6-4edc-9ff6-8505925e76a4"
      },
      "source": [
        "import keras\r\n",
        "from keras.datasets import mnist\r\n",
        "from keras.models import Sequential\r\n",
        "from keras.layers import Dense, Dropout, Flatten\r\n",
        "from keras.layers import Conv2D, MaxPooling2D\r\n",
        "from keras import backend as K\r\n",
        "\r\n",
        "# скачиваем данные и разделяем на набор для обучения и тестовый\r\n",
        "(x_train, y_train), (x_test, y_test) = mnist.load_data()\r\n",
        "print(x_train.shape, y_train.shape)\r\n",
        "\r\n",
        "num_classes = 10\r\n",
        "x_train = x_train.reshape(x_train.shape[0], 28, 28, 1)\r\n",
        "x_test = x_test.reshape(x_test.shape[0], 28, 28, 1)\r\n",
        "input_shape = (28, 28, 1)\r\n",
        "\r\n",
        "# преобразование векторных классов в бинарные матрицы\r\n",
        "y_train = keras.utils.to_categorical(y_train, num_classes)\r\n",
        "y_test = keras.utils.to_categorical(y_test, num_classes)\r\n",
        "\r\n",
        "x_train = x_train.astype('float32')\r\n",
        "x_test = x_test.astype('float32')\r\n",
        "x_train /= 255\r\n",
        "x_test /= 255\r\n",
        "print('Размерность x_train:', x_train.shape)\r\n",
        "print(x_train.shape[0], 'Размер train')\r\n",
        "print(x_test.shape[0], 'Размер test')\r\n",
        "\r\n",
        "# используем сверточную нейронную сеть\r\n",
        "model = Sequential()\r\n",
        "model.add(Conv2D(32, kernel_size=(3, 3),activation='relu',input_shape=input_shape))\r\n",
        "model.add(Conv2D(64, (3, 3), activation='relu'))\r\n",
        "model.add(MaxPooling2D(pool_size=(2, 2)))\r\n",
        "model.add(Dropout(0.25))\r\n",
        "model.add(Flatten())\r\n",
        "model.add(Dense(256, activation='relu'))\r\n",
        "model.add(Dropout(0.5))\r\n",
        "model.add(Dense(num_classes, activation='softmax'))\r\n",
        "model.compile(loss=keras.losses.categorical_crossentropy,optimizer=keras.optimizers.Adadelta(),metrics=['accuracy'])\r\n",
        "\r\n",
        "batch_size = 128\r\n",
        "epochs = 10\r\n",
        "\r\n",
        "hist = model.fit(x_train, y_train, batch_size = batch_size, epochs=epochs, verbose=1, validation_data=(x_test, y_test))\r\n",
        "print(\"Модель успешно обучена\")\r\n",
        "\r\n",
        "model.save('mnist.h5')\r\n",
        "print(\"Модель сохранена как mnist.h5\")\r\n",
        "\r\n",
        "score = model.evaluate(x_test, y_test, verbose=0)\r\n",
        "print('Потери на тесте:', score[0])\r\n",
        "print('Точность на тесте:', score[1])"
      ],
      "execution_count": 10,
      "outputs": [
        {
          "output_type": "stream",
          "text": [
            "(60000, 28, 28) (60000,)\n",
            "Размерность x_train: (60000, 28, 28, 1)\n",
            "60000 Размер train\n",
            "10000 Размер test\n",
            "Epoch 1/10\n",
            "469/469 [==============================] - 151s 321ms/step - loss: 2.2829 - accuracy: 0.1310 - val_loss: 2.2310 - val_accuracy: 0.2739\n",
            "Epoch 2/10\n",
            "469/469 [==============================] - 152s 324ms/step - loss: 2.2229 - accuracy: 0.2354 - val_loss: 2.1496 - val_accuracy: 0.4063\n",
            "Epoch 3/10\n",
            "469/469 [==============================] - 153s 326ms/step - loss: 2.1414 - accuracy: 0.3456 - val_loss: 2.0364 - val_accuracy: 0.5559\n",
            "Epoch 4/10\n",
            "469/469 [==============================] - 153s 327ms/step - loss: 2.0316 - accuracy: 0.4465 - val_loss: 1.8790 - val_accuracy: 0.6362\n",
            "Epoch 5/10\n",
            "469/469 [==============================] - 153s 327ms/step - loss: 1.8743 - accuracy: 0.5356 - val_loss: 1.6705 - val_accuracy: 0.6967\n",
            "Epoch 6/10\n",
            "469/469 [==============================] - 153s 327ms/step - loss: 1.6824 - accuracy: 0.5949 - val_loss: 1.4268 - val_accuracy: 0.7477\n",
            "Epoch 7/10\n",
            "469/469 [==============================] - 153s 326ms/step - loss: 1.4707 - accuracy: 0.6350 - val_loss: 1.1873 - val_accuracy: 0.7872\n",
            "Epoch 8/10\n",
            "469/469 [==============================] - 153s 326ms/step - loss: 1.2639 - accuracy: 0.6773 - val_loss: 0.9871 - val_accuracy: 0.8118\n",
            "Epoch 9/10\n",
            "469/469 [==============================] - 153s 326ms/step - loss: 1.1006 - accuracy: 0.7047 - val_loss: 0.8356 - val_accuracy: 0.8284\n",
            "Epoch 10/10\n",
            "469/469 [==============================] - 154s 327ms/step - loss: 0.9851 - accuracy: 0.7240 - val_loss: 0.7265 - val_accuracy: 0.8405\n",
            "Модель успешно обучена\n",
            "Модель сохранена как mnist.h5\n",
            "Потери на тесте: 0.7265034317970276\n",
            "Точность на тесте: 0.840499997138977\n"
          ],
          "name": "stdout"
        }
      ]
    },
    {
      "cell_type": "code",
      "metadata": {
        "colab": {
          "base_uri": "https://localhost:8080/",
          "height": 745
        },
        "id": "JEs96MkN9k4t",
        "outputId": "fabafbc2-5118-476f-8204-f2c7bea2d9f5"
      },
      "source": [
        "%shell\r\n",
        "!pip install --no-deps tensorflowjs\r\n",
        "!rm -rf mnist-draw mode\r\n",
        "!tensorflowjs_converter --input_format keras mnist.h5 model/\r\n",
        "!git clone https://github.com/marcacohen/mnist-draw.git\r\n",
        "!rm -rf mnist-draw/model\r\n",
        "!mv model mnist-draw\r\n",
        "!cd mnist-draw/\r\n",
        "!pip install -q -r requirements.txt\r\n",
        "\r\n",
        "import http.server\r\n",
        "import socketserver\r\n",
        "import portpicker\r\n",
        "import threading\r\n",
        "import os\r\n",
        "from google.colab import output\r\n",
        "from IPython.display import Javascript\r\n",
        "\r\n",
        "started = threading.Event()\r\n",
        "port = portpicker.pick_unused_port()\r\n",
        "\r\n",
        "# Start a background thread serving up the files.\r\n",
        "def server_entry():\r\n",
        "  os.chdir('/content/mnist-draw')\r\n",
        "  with socketserver.TCPServer((\"\", port), http.server.SimpleHTTPRequestHandler) as httpd:\r\n",
        "    started.set()\r\n",
        "    httpd.serve_forever()\r\n",
        "\r\n",
        "thread = threading.Thread(target=server_entry)\r\n",
        "thread.start()\r\n",
        "started.wait();\r\n",
        "\r\n",
        "output.eval_js(f\"window.mnistPort = {port}\")\r\n",
        "\r\n",
        "Javascript('''\r\n",
        "  (async () => {\r\n",
        "    if (!google.colab.kernel.accessAllowed) {\r\n",
        "        return;\r\n",
        "    }\r\n",
        "    const url = await google.colab.kernel.proxyPort(window.mnistPort);\r\n",
        "    const iframe = document.createElement('iframe');\r\n",
        "    iframe.src = url;\r\n",
        "    iframe.height = '500px';\r\n",
        "    iframe.width = '100%';\r\n",
        "    iframe.style.border = '0';\r\n",
        "    document.body.appendChild(iframe);\r\n",
        "  })()\r\n",
        "''')"
      ],
      "execution_count": 11,
      "outputs": [
        {
          "output_type": "stream",
          "text": [
            "Collecting tensorflowjs\n",
            "\u001b[?25l  Downloading https://files.pythonhosted.org/packages/0f/55/e84ad85e325d239e46b7630a4be48cea9909bf57bd082cd5fe0efe7006de/tensorflowjs-2.8.2-py3-none-any.whl (63kB)\n",
            "\r\u001b[K     |█████▏                          | 10kB 15.9MB/s eta 0:00:01\r\u001b[K     |██████████▍                     | 20kB 20.8MB/s eta 0:00:01\r\u001b[K     |███████████████▌                | 30kB 14.7MB/s eta 0:00:01\r\u001b[K     |████████████████████▊           | 40kB 10.4MB/s eta 0:00:01\r\u001b[K     |█████████████████████████▉      | 51kB 5.4MB/s eta 0:00:01\r\u001b[K     |███████████████████████████████ | 61kB 6.1MB/s eta 0:00:01\r\u001b[K     |████████████████████████████████| 71kB 3.7MB/s \n",
            "\u001b[?25hInstalling collected packages: tensorflowjs\n",
            "Successfully installed tensorflowjs-2.8.2\n",
            "2020-12-30 08:46:04.162501: I tensorflow/stream_executor/platform/default/dso_loader.cc:49] Successfully opened dynamic library libcudart.so.10.1\n",
            "Cloning into 'mnist-draw'...\n",
            "remote: Enumerating objects: 297, done.\u001b[K\n",
            "remote: Total 297 (delta 0), reused 0 (delta 0), pack-reused 297\u001b[K\n",
            "Receiving objects: 100% (297/297), 15.14 MiB | 29.03 MiB/s, done.\n",
            "Resolving deltas: 100% (134/134), done.\n",
            "\u001b[31mERROR: Could not open requirements file: [Errno 2] No such file or directory: 'requirements.txt'\u001b[0m\n"
          ],
          "name": "stdout"
        },
        {
          "output_type": "execute_result",
          "data": {
            "application/javascript": [
              "\n",
              "  (async () => {\n",
              "    if (!google.colab.kernel.accessAllowed) {\n",
              "        // User needs to execute the notebook.\n",
              "        return;\n",
              "    }\n",
              "    const url = await google.colab.kernel.proxyPort(window.mnistPort);\n",
              "    const iframe = document.createElement('iframe');\n",
              "    iframe.src = url;\n",
              "    iframe.height = '500px';\n",
              "    iframe.width = '100%';\n",
              "    iframe.style.border = '0';\n",
              "    document.body.appendChild(iframe);\n",
              "  })()\n"
            ],
            "text/plain": [
              "<IPython.core.display.Javascript object>"
            ]
          },
          "metadata": {
            "tags": []
          },
          "execution_count": 11
        }
      ]
    }
  ]
}